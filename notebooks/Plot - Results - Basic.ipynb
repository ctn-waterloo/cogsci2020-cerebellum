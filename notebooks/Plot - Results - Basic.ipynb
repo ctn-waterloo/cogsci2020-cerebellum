{
 "cells": [
  {
   "cell_type": "code",
   "execution_count": 227,
   "metadata": {},
   "outputs": [],
   "source": [
    "%matplotlib inline\n",
    "import matplotlib.pyplot as plt\n",
    "import matplotlib\n",
    "import numpy as np\n",
    "import pytry\n",
    "import sys\n",
    "sys.path.append('../model')\n",
    "from blink_trial import BlinkTrial"
   ]
  },
  {
   "cell_type": "code",
   "execution_count": 491,
   "metadata": {},
   "outputs": [],
   "source": [
    "v_th = 2e-3"
   ]
  },
  {
   "cell_type": "code",
   "execution_count": 492,
   "metadata": {},
   "outputs": [],
   "source": [
    "def adjust_spines(ax, spines, out=2.5):\n",
    "    for loc, spine in ax.spines.items():\n",
    "        if loc in spines:\n",
    "            spine.set_position(('outward', out))\n",
    "            spine.set_smart_bounds(True)\n",
    "        else:\n",
    "            spine.set_color('none')  # don't draw spine\n",
    "\n",
    "    # turn off ticks where there is no spine\n",
    "    if 'left' in spines:\n",
    "        ax.yaxis.set_ticks_position('left')\n",
    "    else:\n",
    "        # no yaxis ticks\n",
    "        ax.yaxis.set_ticks([])\n",
    "\n",
    "    if 'bottom' in spines:\n",
    "        ax.xaxis.set_ticks_position('bottom')\n",
    "    else:\n",
    "        # no xaxis ticks\n",
    "        ax.xaxis.set_ticks([])"
   ]
  },
  {
   "cell_type": "code",
   "execution_count": 493,
   "metadata": {},
   "outputs": [],
   "source": [
    "def load_avg_cr_plot_experimental_data():\n",
    "    import scipy.interpolate\n",
    "\n",
    "    days = []\n",
    "    for day in [1, 2, 3, 4, 5, 6, 8, 14]:\n",
    "        fn = \"experimental_data/cr_day_{}.txt\".format(day)\n",
    "        data = np.loadtxt(fn)\n",
    "\n",
    "        ts = np.linspace(0, 300, 1000)\n",
    "        ys = scipy.interpolate.interp1d(data[:, 0], data[:, 1], 'slinear', fill_value='extrapolate')(ts)\n",
    "        days.append((day, ys))\n",
    "    return ts * 1e-3, days"
   ]
  },
  {
   "cell_type": "code",
   "execution_count": 494,
   "metadata": {},
   "outputs": [],
   "source": [
    "def plot_cr_day_summary(ts, days, max_day=1000, title=\"\"):\n",
    "    import matplotlib\n",
    "    cmap = matplotlib.cm.get_cmap(\"viridis\")\n",
    "\n",
    "    n_days = len(list(filter(lambda x: x[0] <= max_day, days)))\n",
    "\n",
    "    fig, ax = plt.subplots(figsize=(2, 1.8))\n",
    "    lines = []\n",
    "    for i, (day, ys) in enumerate(days):\n",
    "        if day <= max_day:\n",
    "            ax.plot(ts[ts < 0.25] * 1e3, ys[ts < 0.25] * 1e2,\n",
    "                    color=cmap(i / (n_days - 1)),\n",
    "                    label='Day {}'.format(day))\n",
    "\n",
    "    ax.set_ylabel('Eyelid Closedness (%)')\n",
    "    ax.set_xlabel('Time from CS onset (ms)')\n",
    "    ax.set_xlim(0, 250)\n",
    "    ax.set_ylim(0, 100)\n",
    "    ax.legend(\n",
    "        fontsize=8,\n",
    "        labelspacing=0.2,\n",
    "        handlelength=1.0,\n",
    "        handletextpad=0.5,\n",
    "        columnspacing=0.75\n",
    "    )\n",
    "    ax.axvline(250, ls='--', c=(0.5,0.5, 0.5), linewidth=2, color='#c0c0c0')\n",
    "    ax.axvline(0.0, ls='--', c=(0.5,0.5, 0.5), linewidth=2, color='#c0c0c0')\n",
    "    ax.text(0.0, 10, '$\\\\leftarrow$ CS', ha='left', fontsize=9)\n",
    "    ax.text(250, 80, 'US $\\\\rightarrow$', ha='right', fontsize=9)\n",
    "    ax.set_title(title)\n",
    "\n",
    "    fig.tight_layout()\n",
    "\n",
    "    return fig"
   ]
  },
  {
   "cell_type": "code",
   "execution_count": 495,
   "metadata": {},
   "outputs": [],
   "source": [
    "def compute_per_day_data(data, trials_per_day=100):\n",
    "    dt = data[-1]['sample_every']\n",
    "    T  = data[-1]['period']\n",
    "    t_delay = data[-1]['t_delay']\n",
    "    n_trials = data[-1]['n_trials']\n",
    "    n_days = int(n_trials / trials_per_day)\n",
    "    N = int(T/dt)\n",
    "    ts = np.arange(0, T, dt)\n",
    "\n",
    "    days = {}\n",
    "    for datum in data:\n",
    "        # Fetch the data per trial\n",
    "        purk = np.array(datum['purkinje']).reshape(-1, N).T\n",
    "\n",
    "        # Compute the integral\n",
    "        reflex_scale = 1.0/25\n",
    "        v = np.clip(purk[:,:],0,np.inf)*dt/reflex_scale\n",
    "        v[v < v_th] = 0.0\n",
    "        pos = np.cumsum(v, axis=0)\n",
    "\n",
    "        for day in range(n_days):\n",
    "            trial0 = day * trials_per_day\n",
    "            trial1 = (day + 1) * trials_per_day            \n",
    "            avg = np.mean(pos[:, trial0:trial1], axis=1)\n",
    "            if not (day + 1 in days):\n",
    "                days[day + 1] = []\n",
    "            days[day + 1].append(avg)\n",
    "\n",
    "    res = []\n",
    "    for day, arrs in days.items():\n",
    "        avg = np.array(arrs).mean(axis=0)\n",
    "        res.append((day, avg))\n",
    "\n",
    "    return ts, res"
   ]
  },
  {
   "cell_type": "code",
   "execution_count": 496,
   "metadata": {},
   "outputs": [],
   "source": [
    "def plot_cr_for_each_trial(data, trials_per_day=100, plot_dots=False):\n",
    "    # https://stackoverflow.com/a/14314054\n",
    "    def moving_average(a, n=11) :\n",
    "        ret = np.cumsum(a, dtype=float)\n",
    "        ret[n:] = ret[n:] - ret[:-n]\n",
    "        return ret[n - 1:] / n\n",
    "\n",
    "    dt = data[-1]['sample_every']\n",
    "    T  = data[-1]['period']\n",
    "    t_puff = data[-1]['t_puff']\n",
    "    t_delay = data[-1]['t_delay']\n",
    "    n_delay = int((t_puff + t_delay)/dt)\n",
    "    n_trials = data[-1]['n_trials']\n",
    "    n_days = int(n_trials / trials_per_day)\n",
    "    N = int(T/dt)\n",
    "    ts = np.arange(0, T, dt)\n",
    "\n",
    "    fig, axs = plt.subplots(2, 3, figsize=(3.5, 1.65), sharex=True, sharey=True)\n",
    "    for i, datum in enumerate(data):\n",
    "        # Fetch the data per trial\n",
    "        purk = np.array(datum['purkinje']).reshape(-1, N).T\n",
    "\n",
    "        # Compute the integral\n",
    "        reflex_scale = 1.0/25\n",
    "        v = np.clip(purk[:,:],0,np.inf)*dt/reflex_scale\n",
    "        v[v < v_th] = 0.0\n",
    "        pos = np.cumsum(v, axis=0)\n",
    "\n",
    "        trials = np.arange(0, n_trials, dtype=int)\n",
    "\n",
    "        ai, aj = i // 3, i % 3\n",
    "        ax = axs[ai, aj]\n",
    "        if plot_dots:\n",
    "            ax.plot(trials, pos[n_delay, :], 'o', color='#808080', markersize=1.25, markeredgewidth=0)\n",
    "            ax.spines['bottom'].set_color('white')\n",
    "            ax.spines['top'].set_color('white') \n",
    "            ax.spines['right'].set_color('white')\n",
    "            ax.spines['left'].set_color('white')\n",
    "            ax.tick_params(axis='x', colors='white')\n",
    "            ax.tick_params(axis='y', colors='white')\n",
    "        else:\n",
    "            ax.plot(trials[10:], moving_average(pos[n_delay, :]), linewidth=1, c='k', ls='-')\n",
    "            for i in range(n_days + 1):\n",
    "                ax.axvline(x=i * trials_per_day, linestyle=(0, (2.5, 1)), linewidth=0.5, color='#2abaf7')\n",
    "    \n",
    "        adjust_spines(ax, ['left', 'bottom'])\n",
    "        if aj == 0:\n",
    "            ax.set_ylim(0, 1)\n",
    "            ax.set_yticks([0, 1])\n",
    "\n",
    "        if ai == 1:\n",
    "            lbl = ax.set_xlabel('Trial')\n",
    "            if plot_dots:\n",
    "                lbl.set_color('white')\n",
    "            ax.set_xticks([0, 200, 400])\n",
    "\n",
    "        fig.tight_layout()\n",
    "        plt.subplots_adjust(left=None, bottom=None, right=None, top=None, wspace=None, hspace=1.25)\n",
    "    return fig"
   ]
  },
  {
   "cell_type": "code",
   "execution_count": 497,
   "metadata": {},
   "outputs": [],
   "source": [
    "def plot_velocity(data):\n",
    "    fig, ax = plt.subplots(figsize=(3.5, 1.75))\n",
    "\n",
    "    dt = data['sample_every']\n",
    "    T  = data['period']\n",
    "    t_puff = data['t_puff']\n",
    "    t_delay = data['t_delay']\n",
    "    n_delay = int((t_puff + t_delay)/dt)\n",
    "    n_trials = data['n_trials']\n",
    "    N = int(T/dt)\n",
    "    ts = np.arange(0, T, dt)\n",
    "\n",
    "    # Fetch the data per trial\n",
    "    purk = np.array(data['purkinje']).reshape(-1, N).T\n",
    "\n",
    "    # Compute the integral\n",
    "    reflex_scale = 1.0/25\n",
    "    v = np.clip(purk[:,:],0,np.inf)*dt/reflex_scale\n",
    "    pos = np.cumsum(v, axis=0)\n",
    "\n",
    "    cmap = matplotlib.cm.get_cmap('viridis')\n",
    "    scale = 1000\n",
    "    ax.plot(v[:,0]*scale, c=cmap(0/pos.shape[1]))\n",
    "    for i in range(19, v.shape[1], 20):\n",
    "        label = None\n",
    "        if (i+1) % 100 == 0:\n",
    "            label = 'Trial %d' % (i+1)\n",
    "        ax.plot(v[:,i]*scale, c=cmap(i/pos.shape[1]), label=label)\n",
    "    ax.plot(data['reflex']*reflex_scale*scale, ls='--', lw=1.0, c='k', label='Reflex (UR)')\n",
    "    ax.legend(\n",
    "        fontsize=8,\n",
    "        loc='upper left',\n",
    "        ncol=1,\n",
    "        labelspacing=0.2,\n",
    "        handlelength=1.0,\n",
    "        handletextpad=0.5,\n",
    "        columnspacing=0.75)\n",
    "    ax.set_xlim(0, 400)\n",
    "    ax.set_ylim(-0.01*reflex_scale*scale, 0.45*reflex_scale*scale)\n",
    "    ax.set_ylabel('Eyelid velocity (mm/s)')\n",
    "    ax.set_xlabel('Time from CS onset (ms)')\n",
    "\n",
    "    fig.tight_layout()\n",
    "\n",
    "    return fig"
   ]
  },
  {
   "cell_type": "code",
   "execution_count": 498,
   "metadata": {},
   "outputs": [
    {
     "name": "stderr",
     "output_type": "stream",
     "text": [
      "'NimbusRoman-Bold.otf' can not be subsetted into a Type 3 font. The entire font will be embedded in the output.\n",
      "'NimbusRoman-Bold.otf' can not be subsetted into a Type 3 font. The entire font will be embedded in the output.\n"
     ]
    },
    {
     "data": {
      "image/png": "[encoded data removed]",
      "text/plain": [
       "<Figure size 144x129.6 with 1 Axes>"
      ]
     },
     "metadata": {
      "needs_background": "light"
     },
     "output_type": "display_data"
    }
   ],
   "source": [
    "# Plot the empirical data\n",
    "ts, days = load_avg_cr_plot_experimental_data()\n",
    "fig = plot_cr_day_summary(ts, days, max_day=5, title='Empirical data')\n",
    "fig.savefig('result-basic-closedness-ref.pdf', bbox_inches='tight', transparent=True)"
   ]
  },
  {
   "cell_type": "code",
   "execution_count": 513,
   "metadata": {},
   "outputs": [],
   "source": [
    "data = [\n",
    "    list(pytry.read('experiments_batch_1'))[0],\n",
    "    list(pytry.read('experiments_batch_1'))[1],\n",
    "    list(pytry.read('experiments_batch_1'))[2],\n",
    "    list(pytry.read('experiments_batch_1'))[3],\n",
    "    list(pytry.read('experiments_batch_1'))[4],\n",
    "    list(pytry.read('experiments_batch_1'))[5],\n",
    "]\n",
    "\n",
    "#data = [\n",
    "#    list(pytry.read('experiments_batch_2'))[0],\n",
    "#    list(pytry.read('experiments_batch_2'))[0],\n",
    "#    list(pytry.read('experiments_batch_2'))[0],\n",
    "#    list(pytry.read('experiments_batch_2'))[0],\n",
    "#    list(pytry.read('experiments_batch_2'))[0],\n",
    "#    list(pytry.read('experiments_batch_2'))[0],\n",
    "#]\n",
    "\n",
    "#data = [\n",
    "#    list(pytry.read('experiments_batch_3'))[0],\n",
    "#    list(pytry.read('experiments_batch_3'))[1],\n",
    "#    list(pytry.read('experiments_batch_3'))[2],\n",
    "#    list(pytry.read('experiments_batch_3'))[3],\n",
    "#    list(pytry.read('experiments_batch_3'))[4],\n",
    "#    list(pytry.read('experiments_batch_3'))[5],\n",
    "#]\n",
    "\n",
    "data = [\n",
    "    list(pytry.read('experiments_batch_4'))[0],\n",
    "    list(pytry.read('experiments_batch_4'))[1],\n",
    "    list(pytry.read('experiments_batch_4'))[2],\n",
    "    list(pytry.read('experiments_batch_4'))[3],\n",
    "    list(pytry.read('experiments_batch_4'))[4],\n",
    "    list(pytry.read('experiments_batch_4'))[5],\n",
    "]"
   ]
  },
  {
   "cell_type": "code",
   "execution_count": 514,
   "metadata": {},
   "outputs": [
    {
     "name": "stderr",
     "output_type": "stream",
     "text": [
      "'NimbusRoman-Bold.otf' can not be subsetted into a Type 3 font. The entire font will be embedded in the output.\n",
      "'NimbusRoman-Bold.otf' can not be subsetted into a Type 3 font. The entire font will be embedded in the output.\n"
     ]
    },
    {
     "data": {
      "image/png": "[encoded data removed]",
      "text/plain": [
       "<Figure size 144x129.6 with 1 Axes>"
      ]
     },
     "metadata": {
      "needs_background": "light"
     },
     "output_type": "display_data"
    }
   ],
   "source": [
    "# Plot the model data\n",
    "ts, days = compute_per_day_data(data)\n",
    "fig = plot_cr_day_summary(ts, days, max_day=5, title=\"Model data\")\n",
    "fig.savefig('result-basic-closedness.pdf', bbox_inches='tight', transparent=True)"
   ]
  },
  {
   "cell_type": "code",
   "execution_count": 515,
   "metadata": {},
   "outputs": [
    {
     "name": "stderr",
     "output_type": "stream",
     "text": [
      "'NimbusRoman-Bold.otf' can not be subsetted into a Type 3 font. The entire font will be embedded in the output.\n",
      "'NimbusRoman-Bold.otf' can not be subsetted into a Type 3 font. The entire font will be embedded in the output.\n"
     ]
    },
    {
     "data": {
      "image/png": "[encoded data removed]",
      "text/plain": [
       "<Figure size 252x118.8 with 6 Axes>"
      ]
     },
     "metadata": {
      "needs_background": "light"
     },
     "output_type": "display_data"
    },
    {
     "data": {
      "image/png": "[encoded data removed]",
      "text/plain": [
       "<Figure size 252x118.8 with 6 Axes>"
      ]
     },
     "metadata": {
      "needs_background": "dark"
     },
     "output_type": "display_data"
    }
   ],
   "source": [
    "# Plot the model data\n",
    "fig = plot_cr_for_each_trial(data, plot_dots=False)\n",
    "fig.savefig('result-basic-atpuff.pdf', bbox_inches='tight', transparent=True)\n",
    "\n",
    "fig = plot_cr_for_each_trial(data, plot_dots=True)\n",
    "fig.savefig('result-basic-atpuff.png', bbox_inches='tight', transparent=True, dpi=600)"
   ]
  },
  {
   "cell_type": "code",
   "execution_count": 516,
   "metadata": {},
   "outputs": [
    {
     "name": "stderr",
     "output_type": "stream",
     "text": [
      "'NimbusRoman-Bold.otf' can not be subsetted into a Type 3 font. The entire font will be embedded in the output.\n",
      "'NimbusRoman-Bold.otf' can not be subsetted into a Type 3 font. The entire font will be embedded in the output.\n"
     ]
    },
    {
     "data": {
      "image/png": "[encoded data removed]",
      "text/plain": [
       "<Figure size 252x126 with 1 Axes>"
      ]
     },
     "metadata": {
      "needs_background": "light"
     },
     "output_type": "display_data"
    }
   ],
   "source": [
    "fig = plot_velocity(data[0])\n",
    "fig.savefig('result-basic-velocity.pdf', bbox_inches='tight', transparent=True)"
   ]
  },
  {
   "cell_type": "code",
   "execution_count": null,
   "metadata": {},
   "outputs": [],
   "source": []
  }
 ],
 "metadata": {
  "kernelspec": {
   "display_name": "Python 3",
   "language": "python",
   "name": "python3"
  },
  "language_info": {
   "codemirror_mode": {
    "name": "ipython",
    "version": 3
   },
   "file_extension": ".py",
   "mimetype": "text/x-python",
   "name": "python",
   "nbconvert_exporter": "python",
   "pygments_lexer": "ipython3",
   "version": "3.7.5"
  }
 },
 "nbformat": 4,
 "nbformat_minor": 4
}
